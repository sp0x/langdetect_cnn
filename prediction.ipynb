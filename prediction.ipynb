{
 "cells": [
  {
   "cell_type": "code",
   "execution_count": 6,
   "metadata": {},
   "outputs": [
    {
     "name": "stdout",
     "output_type": "stream",
     "text": [
      "Loaded target classes (length 65).\n",
      "Loaded data with 29250 examples. 100 examples per batch will be used.\n",
      "[65, 257]\n",
      "Loaded target classes (length 65).\n",
      "Loaded vocabulary (size 4090).\n",
      "INFO:tensorflow:Restoring parameters from D:\\dev\\ml\\langdetect_cnn\\models\\1543501620\\model.ckpt-14650\n"
     ]
    },
    {
     "data": {
      "text/plain": [
       "{'prediction': 'bg',\n",
       " 'scores': {'ar': -5.389553,\n",
       "  'az': -2.0546472,\n",
       "  'bg': 11.54267,\n",
       "  'bn': -9.927191,\n",
       "  'bo': -9.363098,\n",
       "  'cs': -10.189638,\n",
       "  'da': -13.043682,\n",
       "  'de': -10.975478,\n",
       "  'el': -9.833729,\n",
       "  'en': -12.404866,\n",
       "  'es': -11.405668,\n",
       "  'fa': -1.2808731,\n",
       "  'fi': -8.6994705,\n",
       "  'fil': -11.992234,\n",
       "  'fr': -7.488301,\n",
       "  'gu': -6.7938175,\n",
       "  'he': -7.7206793,\n",
       "  'hi': -4.788885,\n",
       "  'ht': -9.9235325,\n",
       "  'hu': -10.975269,\n",
       "  'hy': -2.6993723,\n",
       "  'id': -14.886158,\n",
       "  'is': -11.709765,\n",
       "  'it': -13.003388,\n",
       "  'ja': -4.284956,\n",
       "  'ka': -9.438032,\n",
       "  'km': -9.798958,\n",
       "  'kn': -9.543515,\n",
       "  'ko': -12.488618,\n",
       "  'ku': -4.6832466,\n",
       "  'lt': -14.874892,\n",
       "  'mg': -11.019135,\n",
       "  'ml': -11.278277,\n",
       "  'mn': 8.323818,\n",
       "  'ms': -15.196726,\n",
       "  'my': -8.040717,\n",
       "  'nb': -15.730794,\n",
       "  'ne': -5.762569,\n",
       "  'nl': -14.536111,\n",
       "  'nn': -13.558225,\n",
       "  'pl': -10.338786,\n",
       "  'ps': -6.733722,\n",
       "  'pt': -10.386247,\n",
       "  'ro': -2.9365292,\n",
       "  'ru': 10.664089,\n",
       "  'si': -3.6322088,\n",
       "  'sk': -8.7959175,\n",
       "  'sl': -15.152033,\n",
       "  'so': -8.010491,\n",
       "  'sq': -11.878911,\n",
       "  'sv': -8.16275,\n",
       "  'sw': -7.2131815,\n",
       "  'ta': -8.065282,\n",
       "  'te': -7.7258716,\n",
       "  'tg': 10.10393,\n",
       "  'th': -13.903603,\n",
       "  'tl': -10.691936,\n",
       "  'tr': -6.275161,\n",
       "  'ug': -8.287508,\n",
       "  'uk': 10.351203,\n",
       "  'ur': -10.981218,\n",
       "  'uz': -7.5056067,\n",
       "  'vi': -4.5454865,\n",
       "  'zh-cn': -0.249295,\n",
       "  'zh-tw': -4.111275}}"
      ]
     },
     "execution_count": 6,
     "metadata": {},
     "output_type": "execute_result"
    }
   ],
   "source": [
    "from cnndetector import train, predict\n",
    "from utils import DataLoader, load\n",
    "import os\n",
    "from pathlib import Path\n",
    "cr_dir = os.path.abspath(os.path.dirname(\"./\"))\n",
    "data_dir = os.path.join(cr_dir, 'data', 'ted500')\n",
    "train_dir = os.path.join(cr_dir, 'models', '1543501620')\n",
    "x = \"Pitchнахбидеята\"\n",
    "\n",
    "config = load(os.path.join(train_dir, 'flags.cPickle'))\n",
    "config['data_dir'] = data_dir\n",
    "config['train_dir'] = train_dir\n",
    "train_loader = DataLoader(data_dir, 'train.cPickle', batch_size=config['batch_size'])\n",
    "config['num_classes'] = train_loader.num_classes\n",
    "config['sent_len'] = train_loader.sent_len\n",
    "print([train_loader.num_classes, train_loader.sent_len])\n",
    "\n",
    "predict(x, config, train_dir)"
   ]
  },
  {
   "cell_type": "code",
   "execution_count": 14,
   "metadata": {},
   "outputs": [
    {
     "data": {
      "text/plain": [
       "col1    2\n",
       "col2    4\n",
       "Name: 1, dtype: int64"
      ]
     },
     "execution_count": 14,
     "metadata": {},
     "output_type": "execute_result"
    }
   ],
   "source": [
    "import pandas as pd\n",
    "d = {'col1': [1, 2], 'col2': [3, 4]}\n",
    "df = pd.DataFrame(data=d)\n",
    "df.iloc[1]"
   ]
  },
  {
   "cell_type": "code",
   "execution_count": null,
   "metadata": {},
   "outputs": [],
   "source": []
  }
 ],
 "metadata": {
  "kernelspec": {
   "display_name": "Python 3",
   "language": "python",
   "name": "python3"
  },
  "language_info": {
   "codemirror_mode": {
    "name": "ipython",
    "version": 3
   },
   "file_extension": ".py",
   "mimetype": "text/x-python",
   "name": "python",
   "nbconvert_exporter": "python",
   "pygments_lexer": "ipython3",
   "version": "3.6.4"
  }
 },
 "nbformat": 4,
 "nbformat_minor": 2
}
